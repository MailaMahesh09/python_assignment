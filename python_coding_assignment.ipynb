{
 "cells": [
  {
   "cell_type": "markdown",
   "metadata": {},
   "source": [
    "# Python Programming Assignment"
   ]
  },
  {
   "cell_type": "markdown",
   "metadata": {},
   "source": [
    "This project explores key Python concepts like loops, dictionaries, lists, recursion, and generators. It will strengthen your coding skills, boost efficiency, and prepare you for real-world programming tasks."
   ]
  },
  {
   "cell_type": "markdown",
   "metadata": {},
   "source": [
    "## section 1 Operators and Control Structures"
   ]
  },
  {
   "cell_type": "markdown",
   "metadata": {},
   "source": [
    "### 1. Question: Write a Python program to calculate the sum of all numbers in a list using a for loop.\n",
    "\n",
    " Sample Input: numbers = [1, 2, 3, 4, 5]\n",
    " Sample Output: 15"
   ]
  },
  {
   "cell_type": "code",
   "execution_count": 1,
   "metadata": {},
   "outputs": [
    {
     "name": "stdout",
     "output_type": "stream",
     "text": [
      "Entered List: [1, 1, 2, 34, 4]\n",
      "sum of numbers in list = 42\n"
     ]
    }
   ],
   "source": [
    "numbers = numbers = list(map(int, input(\"Enter numbers separated by space: \").split()))\n",
    "print(\"Entered List:\", numbers)\n",
    "#taking input\n",
    "sum=0 \n",
    "for num in numbers: \n",
    "    sum+=num\n",
    "\n",
    "print(\"sum of numbers in list =\",sum)"
   ]
  },
  {
   "cell_type": "markdown",
   "metadata": {},
   "source": [
    "### 2.Question: What is the output of the following code?\n",
    "\n",
    "Code:\n",
    "\n",
    "x = 5\n",
    "\n",
    "y = 2\n",
    "\n",
    "print(x ** y)\n",
    "\n",
    "Sample Output: 25\n"
   ]
  },
  {
   "cell_type": "code",
   "execution_count": null,
   "metadata": {},
   "outputs": [
    {
     "name": "stdout",
     "output_type": "stream",
     "text": [
      "25\n"
     ]
    }
   ],
   "source": [
    "x=5 #asigns x=5\n",
    "y=2 #assignns y=2\n",
    "\n",
    "print(x**y) #multiplies 5 by 2 and prints the result\n"
   ]
  },
  {
   "cell_type": "markdown",
   "metadata": {},
   "source": [
    "### 3.Question: Write a Python program to check if a number is a palindrome using a while loop.\n",
    "\n",
    "Sample Input: num = 12321\n",
    "Sample Output: True"
   ]
  },
  {
   "cell_type": "code",
   "execution_count": 10,
   "metadata": {},
   "outputs": [
    {
     "name": "stdout",
     "output_type": "stream",
     "text": [
      "True\n"
     ]
    }
   ],
   "source": [
    "num=int(input(\"enter number to check palindrome or not :\"))\n",
    "tem=num #stores original number\n",
    "rev=0 #stores the reverse of number\n",
    "\n",
    "while tem>0:\n",
    "    lst=tem%10 #returns the last digit of number\n",
    "    rev=(rev*10)+lst\n",
    "    #creates last digit\n",
    "    tem//=10 #Removes Last Digit\n",
    "\n",
    "if num==rev: #compares the original number with the reversed number\n",
    "    print(True)\n",
    "else:\n",
    "    print(False)"
   ]
  },
  {
   "cell_type": "markdown",
   "metadata": {},
   "source": [
    "### 4.Question: What is the output of the following code?\n",
    "Code:\n",
    "fruits = ['apple', 'banana', 'cherry']\n",
    "\n",
    "print(fruits[-1])\n",
    "\n",
    "Sample Output: cherry"
   ]
  },
  {
   "cell_type": "code",
   "execution_count": null,
   "metadata": {},
   "outputs": [
    {
     "name": "stdout",
     "output_type": "stream",
     "text": [
      "cherry\n"
     ]
    }
   ],
   "source": [
    "fruits=['apple','banana','cherry']\n",
    "print(fruits[-1]) #fruits[-1] access last element of the list\n",
    "\n",
    "#negative indexing is used to access elements from end of the list"
   ]
  },
  {
   "cell_type": "markdown",
   "metadata": {},
   "source": [
    "### 5.Question: Write a Python program to calculate the average of all numbers in a list using a for loop.\n",
    "\n",
    "Sample Input: numbers = [1, 2, 3, 4, 5]\n",
    "\n",
    "Sample Output: 3.0\n"
   ]
  },
  {
   "cell_type": "code",
   "execution_count": 11,
   "metadata": {},
   "outputs": [
    {
     "name": "stdout",
     "output_type": "stream",
     "text": [
      "Entered List: [1, 2, 3, 42, 4, 2]\n",
      "Average of numbers in list = 9.0\n"
     ]
    }
   ],
   "source": [
    "numbers = list(map(int, input(\"Enter numbers separated by space: \").split()))\n",
    "print(\"Entered List:\", numbers)\n",
    "\n",
    "total = 0\n",
    "for num in numbers:\n",
    "    total += num  # Calculates sum\n",
    "\n",
    "avg = total / len(numbers)  # average calculation\n",
    "\n",
    "print(\"Average of numbers in list =\", avg)\n"
   ]
  },
  {
   "cell_type": "markdown",
   "metadata": {},
   "source": [
    "## Section 2 Lists and Dictionaries"
   ]
  },
  {
   "cell_type": "markdown",
   "metadata": {},
   "source": [
    "### 6.Question: Write a Python program to create a dictionary with student names as keys and their grades as values.\n",
    "\n",
    "\n",
    " Sample Input: students = ['John', 'Alice', 'Bob'], grades = [90, 85, 95]\n",
    " \n",
    " Sample Output: {'John': 90, 'Alice': 85, 'Bob': 95}\n"
   ]
  },
  {
   "cell_type": "code",
   "execution_count": 8,
   "metadata": {},
   "outputs": [
    {
     "name": "stdout",
     "output_type": "stream",
     "text": [
      "{'John': 90, 'Alice': 85, 'Bob': 95}\n"
     ]
    }
   ],
   "source": [
    "students=['John', 'Alice', 'Bob']\n",
    "grades = [90, 85, 95]\n",
    "\n",
    "student=dict(zip(students,grades))#zip() combines both lists into pairs\n",
    "\n",
    "#dict() converts pairs into dictionary\n",
    "print(student)"
   ]
  },
  {
   "cell_type": "markdown",
   "metadata": {},
   "source": [
    "### 7.Question: What is the output of the following code?\n",
    "\n",
    "Code:\n",
    "\n",
    "numbers = [1, 2, 3, 4, 5]\n",
    "\n",
    "print(numbers[1:3])\n",
    "\n",
    "Sample Output: [2, 3]\n"
   ]
  },
  {
   "cell_type": "code",
   "execution_count": 9,
   "metadata": {},
   "outputs": [
    {
     "name": "stdout",
     "output_type": "stream",
     "text": [
      "[2, 3]\n"
     ]
    }
   ],
   "source": [
    "numbers=[1,2,3,4,5]\n",
    "\n",
    "print(numbers[1:3])\n",
    "\n",
    "#[1:3] is called list slicing in Python\n",
    "#elements from index 1 to index 2"
   ]
  },
  {
   "cell_type": "markdown",
   "metadata": {},
   "source": [
    "### 8.Question: Write a Python program to sort a list of numbers in ascending order using the sorted() function.\n",
    "\n",
    " Sample Input: numbers = [4, 2, 9, 6, 5]\n",
    " \n",
    " Sample Output: [2, 4, 5, 6, 9]\n",
    "\n",
    "\n"
   ]
  },
  {
   "cell_type": "code",
   "execution_count": 12,
   "metadata": {},
   "outputs": [
    {
     "name": "stdout",
     "output_type": "stream",
     "text": [
      "Entered List: [2, 3, 2, 5, 3, 45, 34]\n",
      "sorted list  [2, 2, 3, 3, 5, 34, 45]\n"
     ]
    }
   ],
   "source": [
    "numbers=numbers = list(map(int, input(\"Enter numbers separated by space: \").split()))\n",
    "print(\"Entered List:\", numbers)\n",
    "sorted_list= sorted(numbers)#sorted() is a built-in Python function that sorts a list in ascending order\n",
    "print(\"sorted list \",sorted_list)"
   ]
  },
  {
   "cell_type": "markdown",
   "metadata": {},
   "source": [
    "### 9.Question: What is the output of the following code?\n",
    "\n",
    "Code:\n",
    " fruits = {'apple': 5, 'banana': 10, 'cherry': 15}\n",
    "\n",
    " print(fruits.get('banana'))\n",
    "\n",
    " Sample Output: 10"
   ]
  },
  {
   "cell_type": "code",
   "execution_count": 13,
   "metadata": {},
   "outputs": [
    {
     "name": "stdout",
     "output_type": "stream",
     "text": [
      "10\n"
     ]
    }
   ],
   "source": [
    "fruits={'apple':5,'banana':10,'cherry':15} #dictionary\n",
    "print(fruits.get('banana'))\n",
    "\n",
    "#fruits.get('banana') is a method used to get the value associated with the key 'banana'"
   ]
  },
  {
   "cell_type": "markdown",
   "metadata": {},
   "source": [
    "### 10.Question: Write a Python program to create a list of squares of all numbers from 1 to 10 using a list comprehension.\n",
    "\n",
    " Sample Output: [1, 4, 9, 16, 25, 36, 49, 64, 81, 100]\n"
   ]
  },
  {
   "cell_type": "code",
   "execution_count": 16,
   "metadata": {},
   "outputs": [
    {
     "name": "stdout",
     "output_type": "stream",
     "text": [
      "list of squares from numbers 1 to 10 numbers : [1, 4, 9, 16, 25, 36, 49, 64, 81, 100]\n"
     ]
    }
   ],
   "source": [
    "squares=[x**2 for x in range (1,11)]#x**2 calcuates square of numbers\n",
    "\n",
    "#for x in range(1, 11) Iterates through numbers 1 to 10\n",
    "print(\"list of squares from numbers 1 to 10 numbers :\",squares)"
   ]
  },
  {
   "cell_type": "markdown",
   "metadata": {},
   "source": [
    "## Section 3 Advanced Topics"
   ]
  },
  {
   "cell_type": "markdown",
   "metadata": {},
   "source": [
    "### 11.Question: Write a Python program to calculate the factorial of a number using recursion.\n",
    "\n",
    "Sample Input: num = 5    \n",
    "Sample Output: 120\n"
   ]
  },
  {
   "cell_type": "code",
   "execution_count": null,
   "metadata": {},
   "outputs": [
    {
     "name": "stdout",
     "output_type": "stream",
     "text": [
      "Factorial of 10 is: 3628800\n"
     ]
    }
   ],
   "source": [
    "def factorial(num):\n",
    "    if num == 0 or num == 1:  # Base case\n",
    "        return 1\n",
    "    else:\n",
    "        return num * factorial(num - 1)  # recursive call\n",
    "\n",
    "num = int(input(\"Give a number to find its factorial: \"))  # Input number\n",
    "\n",
    "print(\"Factorial of\", num, \"is:\", factorial(num))  # Calling the function and printing the result\n"
   ]
  },
  {
   "cell_type": "markdown",
   "metadata": {},
   "source": [
    "### 12.Question: The output of the following code?\n",
    "\n",
    "Code:\n",
    " numbers = [1, 2, 3, 4, 5]   \n",
    " print(list(reversed(numbers))) \n",
    "  \n",
    "Sample Output: [5, 4, 3, 2, 1]"
   ]
  },
  {
   "cell_type": "code",
   "execution_count": 20,
   "metadata": {},
   "outputs": [
    {
     "name": "stdout",
     "output_type": "stream",
     "text": [
      "[5, 4, 3, 2, 1]\n"
     ]
    }
   ],
   "source": [
    "numbers=[1,2,3,4,5]\n",
    "print(list(reversed(numbers)))\n",
    "#reversed() is a built-in Python function that reverses elements of any iterable (like lists, tuples, strings..)"
   ]
  },
  {
   "cell_type": "markdown",
   "metadata": {},
   "source": [
    "### 13.Question: Write a Python program to create a generator that yields the Fibonacci sequence up to the nth term.\n",
    "\n",
    "Sample Input: n = 10  \n",
    "Sample Output: [0, 1, 1, 2, 3, 5, 8, 13, 21, 34]\n"
   ]
  },
  {
   "cell_type": "code",
   "execution_count": 21,
   "metadata": {},
   "outputs": [
    {
     "name": "stdout",
     "output_type": "stream",
     "text": [
      "Fibonacci Sequence: [0, 1, 1, 2, 3, 5, 8, 13, 21, 34]\n"
     ]
    }
   ],
   "source": [
    "def fibonacci(n):\n",
    "    a, b = 0, 1\n",
    "    for _ in range(n):\n",
    "        yield a\n",
    "        a, b = b, a + b\n",
    "\n",
    "# input from user\n",
    "n = int(input(\"Enter the number of terms: \"))\n",
    "\n",
    "fib = fibonacci(n)# generator object\n",
    "\n",
    "print(\"Fibonacci Sequence:\", list(fib)) # generator to a list and print it\n"
   ]
  },
  {
   "cell_type": "markdown",
   "metadata": {},
   "source": [
    "### 14.Question: The output of the following code?\n",
    "\n",
    "Code:\n",
    "  import math   \n",
    "  print(math.pi)\n",
    "  \n",
    "  Sample Output: 3.14159...\n"
   ]
  },
  {
   "cell_type": "code",
   "execution_count": 22,
   "metadata": {},
   "outputs": [
    {
     "name": "stdout",
     "output_type": "stream",
     "text": [
      "3.141592653589793\n"
     ]
    }
   ],
   "source": [
    "import math#import math Python’s built-in math module, provides mathematical functions and constants\n",
    "print(math.pi)#math.pi is a constant in the math module that represents the mathematical value of pi\n"
   ]
  },
  {
   "cell_type": "markdown",
   "metadata": {},
   "source": [
    "### 15.Question: Write a Python program to print the inverted star pyramid of height 5."
   ]
  },
  {
   "cell_type": "code",
   "execution_count": 23,
   "metadata": {},
   "outputs": [
    {
     "name": "stdout",
     "output_type": "stream",
     "text": [
      "* * * * * \n",
      " * * * * \n",
      "  * * * \n",
      "   * * \n",
      "    * \n"
     ]
    }
   ],
   "source": [
    "h = 5\n",
    "\n",
    "for i in range(h, 0, -1):#Loop from height to 1  Controls the number of rows\n",
    "    print(\" \" * (h - i) + \"* \" * i)#Print spaces (\" \" * (height - i))  Creates right alignment\n",
    "#Print stars (\"* \" * i\")  Prints decreasing stars per row"
   ]
  }
 ],
 "metadata": {
  "kernelspec": {
   "display_name": "Python 3",
   "language": "python",
   "name": "python3"
  },
  "language_info": {
   "codemirror_mode": {
    "name": "ipython",
    "version": 3
   },
   "file_extension": ".py",
   "mimetype": "text/x-python",
   "name": "python",
   "nbconvert_exporter": "python",
   "pygments_lexer": "ipython3",
   "version": "3.13.1"
  }
 },
 "nbformat": 4,
 "nbformat_minor": 2
}
